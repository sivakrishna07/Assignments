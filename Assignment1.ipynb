{
 "cells": [
  {
   "cell_type": "markdown",
   "metadata": {},
   "source": [
    "# TASK 1:"
   ]
  },
  {
   "cell_type": "markdown",
   "metadata": {},
   "source": [
    "#### 2. Write a program which will find all such numbers which are divisible by 7 but are not a multiple of 5, between 2000 and 3200 (both included). The numbers obtained should be printed in a comma-separated sequence on a single line"
   ]
  },
  {
   "cell_type": "code",
   "execution_count": null,
   "metadata": {
    "collapsed": true
   },
   "outputs": [],
   "source": [
    "for i in range(2000,3201):\n",
    "    if (i % 7) == 0 and not (i % 5 == 0):\n",
    "        #prints the numbers(in between 2000 to 3200) that are divisible by 7 and not a multiple of 5.\n",
    "        print(i,end=\",\")"
   ]
  },
  {
   "cell_type": "markdown",
   "metadata": {},
   "source": [
    "#### 3. Write a Python program to accept the user's first and last name and then getting them printed in the reverse order with a space between first name and last name.\n"
   ]
  },
  {
   "cell_type": "code",
   "execution_count": null,
   "metadata": {
    "collapsed": true
   },
   "outputs": [],
   "source": [
    "user = input(\"Enter user's first and last name:\") #Take's the input from the user\n",
    "print(\"Printing the user's first and last name in reverse order:\",user[::-1]) #Prints's the user input in reverse order."
   ]
  },
  {
   "cell_type": "markdown",
   "metadata": {},
   "source": [
    "#### 4. Write a Python program to find the volume of a sphere with diameter 12 cm.\n",
    "                      Formula: V=4/3 * π * r^3"
   ]
  },
  {
   "cell_type": "code",
   "execution_count": null,
   "metadata": {
    "collapsed": true
   },
   "outputs": [],
   "source": [
    "from math import pi #pi is avaliable in math module.\n",
    "diameter = 12\n",
    "radius = diameter / 2 #Formula for diameter of a sphere is (d = 2 * r)\n",
    "volume = ((4/3) * (pi) * (radius ** 3))\n",
    "print(\"Volume of a Sphere with diameter {} is {}\".format(diameter,volume))"
   ]
  },
  {
   "cell_type": "markdown",
   "metadata": {},
   "source": [
    "# TASK 2:"
   ]
  },
  {
   "cell_type": "markdown",
   "metadata": {},
   "source": [
    "#### 1.Write a program which accepts a sequence of comma-separated numbers from console and generate a list."
   ]
  },
  {
   "cell_type": "code",
   "execution_count": null,
   "metadata": {
    "collapsed": true
   },
   "outputs": [],
   "source": [
    "user = input(\"Enter a sequence of number's seperated by comma:\")\n",
    "result = []\n",
    "for i in user:\n",
    "    if not(',' in i): #excludes the ','(comma). \n",
    "        i = int(i) # typecast to integer.\n",
    "        result.append(i)\n",
    "print(result)"
   ]
  },
  {
   "cell_type": "markdown",
   "metadata": {},
   "source": [
    "#### 2. Create the below pattern using nested for loop in Python.\n",
    "                         *\n",
    "                         * *\n",
    "                         * * *\n",
    "                         * * * *\n",
    "                         * * * * *\n",
    "                         * * * *\n",
    "                         * * *\n",
    "                         * *\n",
    "                         *\n"
   ]
  },
  {
   "cell_type": "code",
   "execution_count": null,
   "metadata": {
    "collapsed": true
   },
   "outputs": [],
   "source": [
    "for i in range(0,5):\n",
    "    for j in range(0,i+1):\n",
    "        print(\"* \",end=\"\")\n",
    "    print()\n",
    "for i in range(5,0,-1):\n",
    "    for j in range(0,i-1):\n",
    "        print(\"* \",end=\"\")\n",
    "    print()"
   ]
  },
  {
   "cell_type": "markdown",
   "metadata": {},
   "source": [
    "#### 3. Write a Python program to reverse a word after accepting the input from the user.\n",
    " Sample Output:\n",
    " \n",
    " Input word: AcadGild\n",
    " \n",
    " Output: dilGdacA"
   ]
  },
  {
   "cell_type": "code",
   "execution_count": null,
   "metadata": {},
   "outputs": [],
   "source": [
    "#Approach 1\n",
    "user = input(\"Enter a word:\")\n",
    "print(\"Printing the word {} in reverse order {}:\".format(user,user[::-1]))"
   ]
  },
  {
   "cell_type": "code",
   "execution_count": null,
   "metadata": {},
   "outputs": [],
   "source": [
    "#Approach 2\n",
    "user = input(\"Enter a word:\")\n",
    "str = \"\"\n",
    "for i in user:\n",
    "    str = i + str\n",
    "print(str)"
   ]
  },
  {
   "cell_type": "markdown",
   "metadata": {},
   "source": [
    "#### 4.Write a Python Program to print the given string in the format specified in the sample output.\n",
    "                WE, THE PEOPLE OF INDIA, having solemnly resolved to constitute India into a\n",
    "                SOVEREIGN, SOCIALIST, SECULAR, DEMOCRATIC REPUBLIC and to secure to all\n",
    "                its citizens\n",
    "\n",
    "                Sample Output:\n",
    "                WE, THE PEOPLE OF INDIA,\n",
    "                      having solemnly resolved to constitute India into a SOVEREIGN,!\n",
    "                             SOCIALIST, SECULAR, DEMOCRATIC REPUBLIC\n",
    "                              and to secure to all its citizens\n"
   ]
  },
  {
   "cell_type": "code",
   "execution_count": null,
   "metadata": {},
   "outputs": [],
   "source": [
    "print(\"WE, THE PEOPLE OF INDIA,\\n\\thaving solemnly resolved to constitute India into a SOVEREIGN,!\\\n",
    "\\n\\t\\tSOCIALIST,SECULAR, DEMOCRATIC REPUBLIC\\n\\t\\t and to secure to all its citizens\")"
   ]
  },
  {
   "cell_type": "code",
   "execution_count": null,
   "metadata": {},
   "outputs": [],
   "source": []
  },
  {
   "cell_type": "code",
   "execution_count": null,
   "metadata": {},
   "outputs": [],
   "source": []
  },
  {
   "cell_type": "code",
   "execution_count": null,
   "metadata": {},
   "outputs": [],
   "source": []
  },
  {
   "cell_type": "code",
   "execution_count": null,
   "metadata": {
    "collapsed": true
   },
   "outputs": [],
   "source": []
  }
 ],
 "metadata": {
  "kernelspec": {
   "display_name": "Python 3",
   "language": "python",
   "name": "python3"
  },
  "language_info": {
   "codemirror_mode": {
    "name": "ipython",
    "version": 3
   },
   "file_extension": ".py",
   "mimetype": "text/x-python",
   "name": "python",
   "nbconvert_exporter": "python",
   "pygments_lexer": "ipython3",
   "version": "3.6.1"
  }
 },
 "nbformat": 4,
 "nbformat_minor": 2
}
