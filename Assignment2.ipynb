{
 "cells": [
  {
   "cell_type": "markdown",
   "metadata": {},
   "source": [
    "# Assignment_2\n",
    "\n",
    "# Task 1:"
   ]
  },
  {
   "cell_type": "markdown",
   "metadata": {
    "collapsed": true
   },
   "source": [
    "##### 1.1 Write a Python Program to implement your own myreduce() function which works exactly like Python's built-in function reduce()"
   ]
  },
  {
   "cell_type": "code",
   "execution_count": 92,
   "metadata": {},
   "outputs": [
    {
     "name": "stdout",
     "output_type": "stream",
     "text": [
      "10\n"
     ]
    }
   ],
   "source": [
    "def myreduce(ls):\n",
    "    add = ls[0]\n",
    "    for i in range(1,len(ls)):\n",
    "        add += ls[i]\n",
    "    return add\n",
    "\n",
    "result = myreduce([1,2,3,4])\n",
    "print(result)"
   ]
  },
  {
   "cell_type": "markdown",
   "metadata": {},
   "source": [
    "#### 1.2 Write a Python program to implement your own myfilter() function which works exactly like Python's built-in function filter()"
   ]
  },
  {
   "cell_type": "code",
   "execution_count": 75,
   "metadata": {},
   "outputs": [
    {
     "name": "stdout",
     "output_type": "stream",
     "text": [
      "[2, 4, 6, 8, 10]\n"
     ]
    }
   ],
   "source": [
    "def myfilter(ls):\n",
    "    even_num = []\n",
    "    for i in ls:\n",
    "        if i % 2 == 0:\n",
    "            even_num.append(i)\n",
    "    return even_num\n",
    "\n",
    "result = myfilter([1,2,3,4,5,6,7,8,9,10])\n",
    "print(result)"
   ]
  },
  {
   "cell_type": "markdown",
   "metadata": {},
   "source": [
    "#### 2. Implement List comprehensions to produce the following lists.\n",
    "#### Write List comprehensions to produce the following Lists\n",
    "##### ['A', 'C', 'A', 'D', 'G', 'I', ’L’, ‘ D’]\n",
    "##### ['x', 'xx', 'xxx', 'xxxx', 'y', 'yy', 'yyy', 'yyyy', 'z', 'zz', 'zzz', 'zzzz']\n",
    "##### ['x', 'y', 'z', 'xx', 'yy', 'zz', 'xx', 'yy', 'zz', 'xxxx', 'yyyy', 'zzzz']\n",
    "##### [[2], [3], [4], [3], [4], [5], [4], [5], [6]]\n",
    "##### [[2, 3, 4, 5], [3, 4, 5, 6], [4, 5, 6, 7], [5, 6, 7, 8]]\n",
    "##### [(1, 1), (2, 1), (3, 1), (1, 2), (2, 2), (3, 2), (1, 3), (2, 3), (3, 3)]"
   ]
  },
  {
   "cell_type": "code",
   "execution_count": 76,
   "metadata": {},
   "outputs": [],
   "source": [
    "list1 = [x for x in 'ACADGILD']\n",
    "list2 = [x*i for x in 'xyz' for i in range(1,5)]\n",
    "list3 = [j * i for i in range(1,5) for j in 'xyz']\n",
    "list4 = [[i + j] for i in range(2,5) for j in (0,1,2)]\n",
    "list5 = [[i+j for j in [0,1,2,3]] for i in range(2,6)]\n",
    "list6 = [(j,i) for i in [1,2,3] for j in [1,2,3]]"
   ]
  },
  {
   "cell_type": "code",
   "execution_count": 77,
   "metadata": {},
   "outputs": [
    {
     "name": "stdout",
     "output_type": "stream",
     "text": [
      "['A', 'C', 'A', 'D', 'G', 'I', 'L', 'D']\n",
      "['x', 'xx', 'xxx', 'xxxx', 'y', 'yy', 'yyy', 'yyyy', 'z', 'zz', 'zzz', 'zzzz']\n",
      "['x', 'y', 'z', 'xx', 'yy', 'zz', 'xxx', 'yyy', 'zzz', 'xxxx', 'yyyy', 'zzzz']\n",
      "[[2], [3], [4], [3], [4], [5], [4], [5], [6]]\n",
      "[[2, 3, 4, 5], [3, 4, 5, 6], [4, 5, 6, 7], [5, 6, 7, 8]]\n",
      "[(1, 1), (2, 1), (3, 1), (1, 2), (2, 2), (3, 2), (1, 3), (2, 3), (3, 3)]\n"
     ]
    }
   ],
   "source": [
    "print(list1)\n",
    "print(list2)\n",
    "print(list3)\n",
    "print(list4)\n",
    "print(list5)\n",
    "print(list6)"
   ]
  },
  {
   "cell_type": "markdown",
   "metadata": {},
   "source": [
    "#### 3. Implement a function longestWord() that takes a list of words and returns the longest on"
   ]
  },
  {
   "cell_type": "code",
   "execution_count": 78,
   "metadata": {},
   "outputs": [
    {
     "name": "stdout",
     "output_type": "stream",
     "text": [
      "MyNameIsSivaKrishna\n"
     ]
    }
   ],
   "source": [
    "def longestWord(listOfWords):\n",
    "    result = ''\n",
    "    for words in listOfWords:\n",
    "        result = result + words\n",
    "    return result\n",
    "\n",
    "output = ['My','Name','Is','Siva','Krishna']\n",
    "print(longestWord(output))"
   ]
  },
  {
   "cell_type": "markdown",
   "metadata": {},
   "source": [
    "# Task 2:"
   ]
  },
  {
   "cell_type": "markdown",
   "metadata": {},
   "source": [
    "#### 1.1 Write a Python Program(with class concepts) to find the area of the triangle using the below formula.\n",
    "#####                     area = (s*(s-a)*(s-b)*(s-c)) *** 0.5\n",
    "#### Function to take the length of the sides of triangle from user should be defined in the parent\n",
    "#### class and function to calculate the area should be defined in subclass."
   ]
  },
  {
   "cell_type": "code",
   "execution_count": 79,
   "metadata": {},
   "outputs": [],
   "source": [
    "class Triangle:\n",
    "    def __init__(self,a,b,c):\n",
    "        self.a = a\n",
    "        self.b = b\n",
    "        self.c = c\n",
    "    def area(self):\n",
    "        s = (self.a+self.b+self.c) / 2\n",
    "        return ((s*(s-self.a)*(s-self.b)*(s-self.c)) ** 0.5)"
   ]
  },
  {
   "cell_type": "code",
   "execution_count": 81,
   "metadata": {},
   "outputs": [
    {
     "name": "stdout",
     "output_type": "stream",
     "text": [
      "Enter first side of a triangle:12\n",
      "Enter second side of a triangle:13\n",
      "Enter third side of a triangle:14.5\n",
      "Area of triangle for given sides 12.0,13.0,14.5 is 73.65\n"
     ]
    }
   ],
   "source": [
    "a = float(input(\"Enter first side of a triangle:\"))\n",
    "b = float(input(\"Enter second side of a triangle:\"))\n",
    "c = float(input(\"Enter third side of a triangle:\"))\n",
    "result = Triangle(a,b,c)\n",
    "print(\"Area of triangle for given sides {},{},{} is {:.2f}\".format(a,b,c,result.area()))"
   ]
  },
  {
   "cell_type": "markdown",
   "metadata": {},
   "source": [
    "#### 1.2 Write a function filter_long_words() that takes a list of words and an integer n and returns the list of words that are longer than n."
   ]
  },
  {
   "cell_type": "code",
   "execution_count": 82,
   "metadata": {},
   "outputs": [
    {
     "name": "stdout",
     "output_type": "stream",
     "text": [
      "['ineuron', 'Deployment', 'Course', 'data', 'python']\n"
     ]
    }
   ],
   "source": [
    "def filter_long_words(lst,num):\n",
    "    result = []\n",
    "    for i in lst:\n",
    "        if len(i) > num:\n",
    "            result.append(i)\n",
    "    return result\n",
    "'''\n",
    "  ### Alternative solution using list comprehensions\n",
    "def filter_long_words(lst,num):\n",
    "    return [x for x in lst if len(x) > num]\n",
    "'''\n",
    "\n",
    "lst = [\"ineuron\",\"ML\",\"Deployment\",\"Course\",\"big\",\"data\",\"python\",]\n",
    "output = filter_long_words(lst,3)\n",
    "print(output)"
   ]
  },
  {
   "cell_type": "markdown",
   "metadata": {},
   "source": [
    "#### 2.1 Write a Python program using function concept that maps list of words into a list of integers representing the lengths of the corresponding words.\n",
    "#### Hint: If a list [ ab,cde,erty] is passed on to the python function output should come as [2,3,4]\n",
    "#### Here 2,3 and 4 are the lengths of the words in the list."
   ]
  },
  {
   "cell_type": "code",
   "execution_count": 83,
   "metadata": {},
   "outputs": [
    {
     "name": "stdout",
     "output_type": "stream",
     "text": [
      "[7, 2, 10, 6]\n"
     ]
    }
   ],
   "source": [
    "def lenOfWords(lst):\n",
    "    result = []\n",
    "    for words in lst:\n",
    "        result.append(len(words))\n",
    "    return result\n",
    "lst = [\"ineuron\",\"ML\",\"Deployment\",\"Course\"]\n",
    "output = lenOfWords(lst)\n",
    "print(output)"
   ]
  },
  {
   "cell_type": "markdown",
   "metadata": {},
   "source": [
    "#### 2.2 Write a Python function which takes a character (i.e. a string of length 1) and returns True if it is a vowel, False otherwise.\n"
   ]
  },
  {
   "cell_type": "code",
   "execution_count": 85,
   "metadata": {},
   "outputs": [
    {
     "name": "stdout",
     "output_type": "stream",
     "text": [
      "Enter a character:i\n",
      "True\n"
     ]
    }
   ],
   "source": [
    "def check_vowel(char):\n",
    "    if char\n",
    "    if char in ['a','e','i','o','u']:\n",
    "        return True\n",
    "    else:\n",
    "        return False\n",
    "char = input(\"Enter a character:\")\n",
    "result = check_vowel(char)\n",
    "print(result)"
   ]
  },
  {
   "cell_type": "code",
   "execution_count": null,
   "metadata": {},
   "outputs": [],
   "source": []
  },
  {
   "cell_type": "code",
   "execution_count": null,
   "metadata": {
    "collapsed": true
   },
   "outputs": [],
   "source": []
  }
 ],
 "metadata": {
  "kernelspec": {
   "display_name": "Python 3",
   "language": "python",
   "name": "python3"
  },
  "language_info": {
   "codemirror_mode": {
    "name": "ipython",
    "version": 3
   },
   "file_extension": ".py",
   "mimetype": "text/x-python",
   "name": "python",
   "nbconvert_exporter": "python",
   "pygments_lexer": "ipython3",
   "version": "3.6.1"
  }
 },
 "nbformat": 4,
 "nbformat_minor": 2
}
