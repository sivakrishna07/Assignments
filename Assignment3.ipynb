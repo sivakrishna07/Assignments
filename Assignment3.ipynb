{
 "cells": [
  {
   "cell_type": "markdown",
   "metadata": {},
   "source": [
    "# ASSIGNMENT_3\n",
    "# TASK 1:\n",
    "\n",
    "\n",
    "#### 1.Write a function to compute 5/0 and use try/except to catch the exceptions."
   ]
  },
  {
   "cell_type": "code",
   "execution_count": 5,
   "metadata": {},
   "outputs": [
    {
     "name": "stdout",
     "output_type": "stream",
     "text": [
      "There was an error occured in try block,i.e division by zero\n"
     ]
    }
   ],
   "source": [
    "def compute():\n",
    "    #if try block catch any error while executing it will hit except block.\n",
    "    try:\n",
    "        result = 5/0\n",
    "        print(result)\n",
    "    #excet block will get executed only if there is an error occured in try block,here it will throw ZeroDivisionError.\n",
    "    except ZeroDivisionError as e:\n",
    "        print(\"There was an error occured in try block,i.e\",e)\n",
    "compute()"
   ]
  },
  {
   "cell_type": "markdown",
   "metadata": {},
   "source": [
    "#### 2. Implement a Python program to generate all sentences where subject is in [\"Americans\",\"Indians\"] and verb is in \n",
    "#### [\"Play\", \"watch\"] and the object is in [\"Baseball\",\"cricket\"].\n",
    "\n",
    "#### Hint: Subject,Verb and Object should be declared in the program as shown below.\n",
    "#### subjects=[\"Americans \",\"Indians\"]\n",
    "#### verbs=[\"play\",\"watch\"]\n",
    "#### objects=[\"Baseball\",\"Cricket\"]\n",
    "\n",
    "#### Output should come as below:\n",
    "#### Americans play Baseball.\n",
    "#### Americans play Cricket.\n",
    "#### Americans watch Baseball.\n",
    "#### Americans watch Cricket.\n",
    "#### Indians play Baseball.\n",
    "#### Indians play Cricket.\n",
    "#### Indians watch Baseball.\n",
    "#### Indians watch Cricket."
   ]
  },
  {
   "cell_type": "code",
   "execution_count": 14,
   "metadata": {},
   "outputs": [
    {
     "name": "stdout",
     "output_type": "stream",
     "text": [
      "Americans  play Baseball\n",
      "Americans  play Cricket\n",
      "Americans  watch Baseball\n",
      "Americans  watch Cricket\n",
      "Indians play Baseball\n",
      "Indians play Cricket\n",
      "Indians watch Baseball\n",
      "Indians watch Cricket\n"
     ]
    }
   ],
   "source": [
    "subjects=[\"Americans \",\"Indians\"]\n",
    "verbs=[\"play\",\"watch\"]\n",
    "objects=[\"Baseball\",\"Cricket\"]\n",
    "\n",
    "#Iterate over subject list\n",
    "for i in subjects:\n",
    "    #Iterate over verbs list\n",
    "    for j in verbs:\n",
    "         #Iterate over objects list       \n",
    "        for k in objects:\n",
    "            print(i,j,k)"
   ]
  },
  {
   "cell_type": "markdown",
   "metadata": {},
   "source": [
    "# TASK 2:\n",
    "\n",
    "\n",
    "#### 1. Write a function so that the columns of the output matrix are powers of the input vector.\n",
    "#### The order of the powers is determined by the increasing boolean argument. Specifically, when increasing is False, the i-th output column is the input vector raised element-wise to the power of N - i - 1.\n",
    "####  HINT: Such a matrix with a geometric progression in each row is named for AlexandreTheophile Vandermonde.\n"
   ]
  },
  {
   "cell_type": "code",
   "execution_count": 101,
   "metadata": {},
   "outputs": [
    {
     "data": {
      "text/plain": [
       "[[1, 1, 1], [4, 2, 1], [16, 4, 1], [25, 5, 1]]"
      ]
     },
     "execution_count": 101,
     "metadata": {},
     "output_type": "execute_result"
    }
   ],
   "source": [
    "#This function takes three parameters list (mandatory parameter) , N and increasing parameters(these two are optional parameters.)\n",
    "'''If user has passed on one parameter let say def vander(lst), this function will handle optional parameters\n",
    "   with thier default values(that part is handled in the try except block).'''\n",
    "def vander(lst,N=None,increasing=False):\n",
    "#def vander(lst): #it will handle this option too.but the input should be one paramter in this case.\n",
    "    empty = []\n",
    "    new_list = []\n",
    "    #Here try will check whether paramters N and increasing are defined or not.\n",
    "    try:\n",
    "        N\n",
    "        increasing\n",
    "    #If the N and increasing parameters are not defined it will assign to thier default values.\n",
    "    except:\n",
    "        N = None\n",
    "        increasing = False \n",
    "    if N == None:\n",
    "        N = len(lst)\n",
    "    for x in lst:\n",
    "        c = [x **(N-i-1) for i in range(N)]\n",
    "        empty.append(c)\n",
    "    if increasing:\n",
    "        for i in empty:\n",
    "            new_list.append(i[::-1])\n",
    "        return new_list\n",
    "    \n",
    "    return empty\n",
    " \n",
    "lst = [1,2,4,5]\n",
    "N = 3\n",
    "vander(lst,N,increasing=True)"
   ]
  },
  {
   "cell_type": "code",
   "execution_count": null,
   "metadata": {},
   "outputs": [],
   "source": []
  },
  {
   "cell_type": "code",
   "execution_count": null,
   "metadata": {},
   "outputs": [],
   "source": []
  }
 ],
 "metadata": {
  "kernelspec": {
   "display_name": "Python 3",
   "language": "python",
   "name": "python3"
  },
  "language_info": {
   "codemirror_mode": {
    "name": "ipython",
    "version": 3
   },
   "file_extension": ".py",
   "mimetype": "text/x-python",
   "name": "python",
   "nbconvert_exporter": "python",
   "pygments_lexer": "ipython3",
   "version": "3.6.1"
  }
 },
 "nbformat": 4,
 "nbformat_minor": 2
}
